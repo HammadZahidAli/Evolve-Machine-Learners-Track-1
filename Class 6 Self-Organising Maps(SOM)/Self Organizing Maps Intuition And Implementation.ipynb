{
 "cells": [
  {
   "cell_type": "markdown",
   "metadata": {},
   "source": [
    "**This Module works fine with python 2.7 or 3.2 as tested. But Not working fine**\n",
    "\n",
    "> ## Self Organizing Maps\n",
    "\n",
    "The Self Organizing Maps (SOM), also known as Kohonen maps, are a type of Artificial Neural Networks able to convert complex, nonlinear statistical relationships between high-dimensional data items into simple geometric relationships on a low-dimensional display. In a SOM the neurons are organized in a bidimensional lattice and each neuron is fully connected to all the source nodes in the input layer. \n",
    "\n",
    "___\n",
    "MiniSom is a minimalistic and Numpy based implementation of the SOM. I [Author](https://glowingpython.blogspot.com/2013/09/self-organizing-maps.html) made it during the experiments for my thesis in order to have fully hackable SOM algorithm and lately I decided to release it on GitHub. The next part of this post will show how to train MiniSom on the Iris Dataset and how to visualize the result. The first step is to import and normalize the data:\n",
    "\n",
    "\n",
    "> You can Download Iris from here [Iris From UCI](https://archive.ics.uci.edu/ml/datasets/iris)\n",
    "\n",
    "> Useful Readings: [Other Resource](http://blog.yhat.com/posts/self-organizing-maps-1.html)\n",
    "\n",
    "\n",
    "\n",
    "____\n",
    "\n",
    "\n"
   ]
  },
  {
   "cell_type": "code",
   "execution_count": 1,
   "metadata": {
    "collapsed": false
   },
   "outputs": [],
   "source": [
    "from numpy import genfromtxt,array,linalg,zeros,apply_along_axis\n",
    "\n",
    "# reading the iris dataset in the csv format    \n",
    "dt = genfromtxt('Iris.csv', delimiter=',',usecols=(0,1,2,3))\n",
    "# normalization to unity of each pattern in the data\n",
    "dt = apply_along_axis(lambda x: x/linalg.norm(x),1,dt)\n"
   ]
  },
  {
   "cell_type": "markdown",
   "metadata": {},
   "source": [
    "> **Explaning Code Above**\n",
    "\n",
    "The snippet above reads the dataset from a CSV and creates a matrix where each row corresponds to a pattern. In this case, we have that each pattern has 4 dimensions. (Note that only the first 4 columns of the file are used because the fifth column contains the labels). \n",
    "\n",
    "\n",
    "The training process can be started as follows:\n",
    "\n",
    "#### If you get any module error of minisom open a terminal type:  pip install minisom"
   ]
  },
  {
   "cell_type": "code",
   "execution_count": 2,
   "metadata": {
    "collapsed": false
   },
   "outputs": [
    {
     "name": "stdout",
     "output_type": "stream",
     "text": [
      "Training...\n",
      "\n",
      "...ready!\n"
     ]
    }
   ],
   "source": [
    "from minisom import MiniSom\n",
    "### Initialization and training ###\n",
    "sm = MiniSom(7,7,4,sigma=1.0,learning_rate=0.5)\n",
    "sm.random_weights_init(dt)\n",
    "print(\"Training...\")\n",
    "sm.train_random(dt,100) # training with 100 iterations\n",
    "print(\"\\n...ready!\")"
   ]
  },
  {
   "cell_type": "markdown",
   "metadata": {},
   "source": [
    "> **Explaning Above Code**\n",
    "\n",
    "Now we have a 7-by-7 SOM trained on our dataset. MiniSom uses a Gaussian as neighborhood function and its initial spread is specified with the parameter sigma. While with the parameter learning_rate we can specify the initial learning rate. The training algorithm implemented decreases both parameters as training progresses. This allows rapid initial training of the neural network that is then \"fine tuned\" as training progresses. \n",
    "To visualize the result of the training we can plot the average distance map of the weights on the map and the coordinates of the associated winning neuron for each patter:"
   ]
  },
  {
   "cell_type": "code",
   "execution_count": 3,
   "metadata": {
    "collapsed": true
   },
   "outputs": [],
   "source": [
    "from minisom import MiniSom\n",
    "\n",
    "import numpy as np\n",
    "import matplotlib.pyplot as plt\n",
    "%matplotlib inline"
   ]
  },
  {
   "cell_type": "code",
   "execution_count": 14,
   "metadata": {
    "collapsed": false
   },
   "outputs": [
    {
     "name": "stdout",
     "output_type": "stream",
     "text": [
      "Training...\n",
      "\n",
      "...ready!\n"
     ]
    },
    {
     "data": {
      "image/png": "[encoded data removed]",
      "text/plain": [
       "<matplotlib.figure.Figure at 0x29895977240>"
      ]
     },
     "metadata": {},
     "output_type": "display_data"
    }
   ],
   "source": [
    "\n",
    "dt = np.genfromtxt('Iris.csv', delimiter=',', usecols=(0, 1, 2, 3))\n",
    "# data normalization\n",
    "dt = np.apply_along_axis(lambda x: x/np.linalg.norm(x), 1, dt)\n",
    "\n",
    "# Initialization and training\n",
    "sm = MiniSom(7, 7, 4, sigma=1.0, learning_rate=0.1)\n",
    "sm.random_weights_init(dt)\n",
    "print(\"Training...\")\n",
    "sm.train_random(dt, 100)  # random training\n",
    "print(\"\\n...ready!\")\n",
    "\n",
    "# Plotting the response for each pattern in the iris dataset\n",
    "plt.bone()\n",
    "plt.pcolor(sm.distance_map().T)  # plotting the distance map as background\n",
    "plt.colorbar()\n",
    "\n",
    "target = np.genfromtxt('Iris.csv', delimiter=',', usecols=(4), dtype=str)\n",
    "t = np.zeros(len(target), dtype=int)\n",
    "t[target == 'setosa'] = 0\n",
    "t[target == 'versicolor'] = 1\n",
    "t[target == 'virginica'] = 2\n",
    "\n",
    "# use different colors and markers for each label\n",
    "markers = ['o', 's', 'D']\n",
    "colors = ['r', 'g', 'b']\n",
    "for cnt, xx in enumerate(dt):\n",
    "    w = sm.winner(xx)  # getting the winner\n",
    "    # palce a marker on the winning position for the sample xx\n",
    "    plt.plot(w[0]+.5, w[1]+.5, markers[t[cnt]], markerfacecolor='None',\n",
    "             markeredgecolor=colors[t[cnt]], markersize=12, markeredgewidth=2)\n",
    "plt.axis([0, 7, 0, 7])\n",
    "plt.show()"
   ]
  },
  {
   "cell_type": "code",
   "execution_count": 7,
   "metadata": {
    "collapsed": false
   },
   "outputs": [
    {
     "data": {
      "text/html": [
       "<div>\n",
       "<table border=\"1\" class=\"dataframe\">\n",
       "  <thead>\n",
       "    <tr style=\"text-align: right;\">\n",
       "      <th></th>\n",
       "      <th>Country</th>\n",
       "      <th>Region</th>\n",
       "      <th>Happiness Rank</th>\n",
       "      <th>Happiness Score</th>\n",
       "      <th>Standard Error</th>\n",
       "      <th>Economy (GDP per Capita)</th>\n",
       "      <th>Family</th>\n",
       "      <th>Health (Life Expectancy)</th>\n",
       "      <th>Freedom</th>\n",
       "      <th>Trust (Government Corruption)</th>\n",
       "      <th>Generosity</th>\n",
       "      <th>Dystopia Residual</th>\n",
       "    </tr>\n",
       "  </thead>\n",
       "  <tbody>\n",
       "    <tr>\n",
       "      <th>0</th>\n",
       "      <td>Switzerland</td>\n",
       "      <td>Western Europe</td>\n",
       "      <td>1</td>\n",
       "      <td>7.587</td>\n",
       "      <td>0.03411</td>\n",
       "      <td>1.39651</td>\n",
       "      <td>1.34951</td>\n",
       "      <td>0.94143</td>\n",
       "      <td>0.66557</td>\n",
       "      <td>0.41978</td>\n",
       "      <td>0.29678</td>\n",
       "      <td>2.51738</td>\n",
       "    </tr>\n",
       "    <tr>\n",
       "      <th>1</th>\n",
       "      <td>Iceland</td>\n",
       "      <td>Western Europe</td>\n",
       "      <td>2</td>\n",
       "      <td>7.561</td>\n",
       "      <td>0.04884</td>\n",
       "      <td>1.30232</td>\n",
       "      <td>1.40223</td>\n",
       "      <td>0.94784</td>\n",
       "      <td>0.62877</td>\n",
       "      <td>0.14145</td>\n",
       "      <td>0.43630</td>\n",
       "      <td>2.70201</td>\n",
       "    </tr>\n",
       "    <tr>\n",
       "      <th>2</th>\n",
       "      <td>Denmark</td>\n",
       "      <td>Western Europe</td>\n",
       "      <td>3</td>\n",
       "      <td>7.527</td>\n",
       "      <td>0.03328</td>\n",
       "      <td>1.32548</td>\n",
       "      <td>1.36058</td>\n",
       "      <td>0.87464</td>\n",
       "      <td>0.64938</td>\n",
       "      <td>0.48357</td>\n",
       "      <td>0.34139</td>\n",
       "      <td>2.49204</td>\n",
       "    </tr>\n",
       "    <tr>\n",
       "      <th>3</th>\n",
       "      <td>Norway</td>\n",
       "      <td>Western Europe</td>\n",
       "      <td>4</td>\n",
       "      <td>7.522</td>\n",
       "      <td>0.03880</td>\n",
       "      <td>1.45900</td>\n",
       "      <td>1.33095</td>\n",
       "      <td>0.88521</td>\n",
       "      <td>0.66973</td>\n",
       "      <td>0.36503</td>\n",
       "      <td>0.34699</td>\n",
       "      <td>2.46531</td>\n",
       "    </tr>\n",
       "    <tr>\n",
       "      <th>4</th>\n",
       "      <td>Canada</td>\n",
       "      <td>North America</td>\n",
       "      <td>5</td>\n",
       "      <td>7.427</td>\n",
       "      <td>0.03553</td>\n",
       "      <td>1.32629</td>\n",
       "      <td>1.32261</td>\n",
       "      <td>0.90563</td>\n",
       "      <td>0.63297</td>\n",
       "      <td>0.32957</td>\n",
       "      <td>0.45811</td>\n",
       "      <td>2.45176</td>\n",
       "    </tr>\n",
       "    <tr>\n",
       "      <th>5</th>\n",
       "      <td>Finland</td>\n",
       "      <td>Western Europe</td>\n",
       "      <td>6</td>\n",
       "      <td>7.406</td>\n",
       "      <td>0.03140</td>\n",
       "      <td>1.29025</td>\n",
       "      <td>1.31826</td>\n",
       "      <td>0.88911</td>\n",
       "      <td>0.64169</td>\n",
       "      <td>0.41372</td>\n",
       "      <td>0.23351</td>\n",
       "      <td>2.61955</td>\n",
       "    </tr>\n",
       "    <tr>\n",
       "      <th>6</th>\n",
       "      <td>Netherlands</td>\n",
       "      <td>Western Europe</td>\n",
       "      <td>7</td>\n",
       "      <td>7.378</td>\n",
       "      <td>0.02799</td>\n",
       "      <td>1.32944</td>\n",
       "      <td>1.28017</td>\n",
       "      <td>0.89284</td>\n",
       "      <td>0.61576</td>\n",
       "      <td>0.31814</td>\n",
       "      <td>0.47610</td>\n",
       "      <td>2.46570</td>\n",
       "    </tr>\n",
       "    <tr>\n",
       "      <th>7</th>\n",
       "      <td>Sweden</td>\n",
       "      <td>Western Europe</td>\n",
       "      <td>8</td>\n",
       "      <td>7.364</td>\n",
       "      <td>0.03157</td>\n",
       "      <td>1.33171</td>\n",
       "      <td>1.28907</td>\n",
       "      <td>0.91087</td>\n",
       "      <td>0.65980</td>\n",
       "      <td>0.43844</td>\n",
       "      <td>0.36262</td>\n",
       "      <td>2.37119</td>\n",
       "    </tr>\n",
       "    <tr>\n",
       "      <th>8</th>\n",
       "      <td>New Zealand</td>\n",
       "      <td>Australia and New Zealand</td>\n",
       "      <td>9</td>\n",
       "      <td>7.286</td>\n",
       "      <td>0.03371</td>\n",
       "      <td>1.25018</td>\n",
       "      <td>1.31967</td>\n",
       "      <td>0.90837</td>\n",
       "      <td>0.63938</td>\n",
       "      <td>0.42922</td>\n",
       "      <td>0.47501</td>\n",
       "      <td>2.26425</td>\n",
       "    </tr>\n",
       "    <tr>\n",
       "      <th>9</th>\n",
       "      <td>Australia</td>\n",
       "      <td>Australia and New Zealand</td>\n",
       "      <td>10</td>\n",
       "      <td>7.284</td>\n",
       "      <td>0.04083</td>\n",
       "      <td>1.33358</td>\n",
       "      <td>1.30923</td>\n",
       "      <td>0.93156</td>\n",
       "      <td>0.65124</td>\n",
       "      <td>0.35637</td>\n",
       "      <td>0.43562</td>\n",
       "      <td>2.26646</td>\n",
       "    </tr>\n",
       "  </tbody>\n",
       "</table>\n",
       "</div>"
      ],
      "text/plain": [
       "       Country                     Region  Happiness Rank  Happiness Score  \\\n",
       "0  Switzerland             Western Europe               1            7.587   \n",
       "1      Iceland             Western Europe               2            7.561   \n",
       "2      Denmark             Western Europe               3            7.527   \n",
       "3       Norway             Western Europe               4            7.522   \n",
       "4       Canada              North America               5            7.427   \n",
       "5      Finland             Western Europe               6            7.406   \n",
       "6  Netherlands             Western Europe               7            7.378   \n",
       "7       Sweden             Western Europe               8            7.364   \n",
       "8  New Zealand  Australia and New Zealand               9            7.286   \n",
       "9    Australia  Australia and New Zealand              10            7.284   \n",
       "\n",
       "   Standard Error  Economy (GDP per Capita)   Family  \\\n",
       "0         0.03411                   1.39651  1.34951   \n",
       "1         0.04884                   1.30232  1.40223   \n",
       "2         0.03328                   1.32548  1.36058   \n",
       "3         0.03880                   1.45900  1.33095   \n",
       "4         0.03553                   1.32629  1.32261   \n",
       "5         0.03140                   1.29025  1.31826   \n",
       "6         0.02799                   1.32944  1.28017   \n",
       "7         0.03157                   1.33171  1.28907   \n",
       "8         0.03371                   1.25018  1.31967   \n",
       "9         0.04083                   1.33358  1.30923   \n",
       "\n",
       "   Health (Life Expectancy)  Freedom  Trust (Government Corruption)  \\\n",
       "0                   0.94143  0.66557                        0.41978   \n",
       "1                   0.94784  0.62877                        0.14145   \n",
       "2                   0.87464  0.64938                        0.48357   \n",
       "3                   0.88521  0.66973                        0.36503   \n",
       "4                   0.90563  0.63297                        0.32957   \n",
       "5                   0.88911  0.64169                        0.41372   \n",
       "6                   0.89284  0.61576                        0.31814   \n",
       "7                   0.91087  0.65980                        0.43844   \n",
       "8                   0.90837  0.63938                        0.42922   \n",
       "9                   0.93156  0.65124                        0.35637   \n",
       "\n",
       "   Generosity  Dystopia Residual  \n",
       "0     0.29678            2.51738  \n",
       "1     0.43630            2.70201  \n",
       "2     0.34139            2.49204  \n",
       "3     0.34699            2.46531  \n",
       "4     0.45811            2.45176  \n",
       "5     0.23351            2.61955  \n",
       "6     0.47610            2.46570  \n",
       "7     0.36262            2.37119  \n",
       "8     0.47501            2.26425  \n",
       "9     0.43562            2.26646  "
      ]
     },
     "execution_count": 7,
     "metadata": {},
     "output_type": "execute_result"
    }
   ],
   "source": [
    "import pandas as pd\n",
    "\n",
    "df = pd.read_csv('WorldHappinessReport2015.csv')\n",
    "\n",
    "df.head(10)"
   ]
  },
  {
   "cell_type": "code",
   "execution_count": 8,
   "metadata": {
    "collapsed": false
   },
   "outputs": [
    {
     "name": "stdout",
     "output_type": "stream",
     "text": [
      "Training...\n",
      "\n",
      "...ready!\n"
     ]
    },
    {
     "data": {
      "image/png": "[encoded data removed]",
      "text/plain": [
       "<matplotlib.figure.Figure at 0x298978c9ac8>"
      ]
     },
     "metadata": {},
     "output_type": "display_data"
    }
   ],
   "source": [
    "\n",
    "data = np.genfromtxt('WorldHappinessReport2015.csv', delimiter=',', usecols=(3, 5, 6,7,8,9 ))\n",
    "# data normalization\n",
    "data = np.apply_along_axis(lambda x: x/np.linalg.norm(x), 1, data)\n",
    "\n",
    "# Initialization and training\n",
    "som = MiniSom(10, 10, 6, sigma=1.0, learning_rate=0.5)\n",
    "som.random_weights_init(data)\n",
    "print(\"Training...\")\n",
    "som.train_random(data, 100)  # random training\n",
    "print(\"\\n...ready!\")\n",
    "\n",
    "# Plotting the response for each pattern in the iris dataset\n",
    "plt.bone()\n",
    "plt.pcolor(som.distance_map().T)  # plotting the distance map as background\n",
    "plt.colorbar()\n",
    "\n",
    "target = np.genfromtxt('WorldHappinessReport2015.csv', delimiter=',', usecols=(6), dtype=str)\n",
    "t = np.zeros(len(target), dtype=int)\n",
    "t[target == 'Switzerland'] = 0\n",
    "t[target == 'Iceland'] = 1\n",
    "t[target == 'Denmark'] = 2\n",
    "t[target == 'Norway'] = 3\n",
    "t[target == 'Canada'] = 4\n",
    "t[target == 'Finland'] = 5\n",
    "\n",
    "# use different colors and markers for each label\n",
    "markers = ['o', 's', 'D']\n",
    "colors = ['r', 'g', 'b']\n",
    "for cnt, xx in enumerate(data):\n",
    "    w = som.winner(xx)  # getting the winner\n",
    "    # palce a marker on the winning position for the sample xx\n",
    "    plt.plot(w[0]+.5, w[1]+.5, markers[t[cnt]], markerfacecolor='None',\n",
    "             markeredgecolor=colors[t[cnt]], markersize=12, markeredgewidth=2)\n",
    "plt.axis([0, 10, 0, 10])\n",
    "plt.show()"
   ]
  }
 ],
 "metadata": {
  "kernelspec": {
   "display_name": "Python 3",
   "language": "python",
   "name": "python3"
  },
  "language_info": {
   "codemirror_mode": {
    "name": "ipython",
    "version": 3
   },
   "file_extension": ".py",
   "mimetype": "text/x-python",
   "name": "python",
   "nbconvert_exporter": "python",
   "pygments_lexer": "ipython3",
   "version": "3.6.0"
  }
 },
 "nbformat": 4,
 "nbformat_minor": 2
}
