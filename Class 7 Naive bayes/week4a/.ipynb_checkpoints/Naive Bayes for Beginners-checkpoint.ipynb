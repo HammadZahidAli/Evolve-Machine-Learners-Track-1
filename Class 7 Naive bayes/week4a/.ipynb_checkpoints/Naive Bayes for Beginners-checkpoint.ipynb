{
 "cells": [
  {
   "cell_type": "markdown",
   "metadata": {},
   "source": [
    "# **Naive Bayes**"
   ]
  },
  {
   "cell_type": "code",
   "execution_count": 2,
   "metadata": {
    "collapsed": true
   },
   "outputs": [],
   "source": [
    "import pandas as pd"
   ]
  },
  {
   "cell_type": "code",
   "execution_count": 4,
   "metadata": {
    "collapsed": false
   },
   "outputs": [
    {
     "data": {
      "text/html": [
       "<div>\n",
       "<table border=\"1\" class=\"dataframe\">\n",
       "  <thead>\n",
       "    <tr style=\"text-align: right;\">\n",
       "      <th></th>\n",
       "      <th>Age</th>\n",
       "      <th>Income</th>\n",
       "      <th>Student</th>\n",
       "      <th>Creadit_Rating</th>\n",
       "      <th>Buys_Computer</th>\n",
       "    </tr>\n",
       "  </thead>\n",
       "  <tbody>\n",
       "    <tr>\n",
       "      <th>0</th>\n",
       "      <td>&lt;=30</td>\n",
       "      <td>high</td>\n",
       "      <td>no</td>\n",
       "      <td>fair</td>\n",
       "      <td>no</td>\n",
       "    </tr>\n",
       "    <tr>\n",
       "      <th>1</th>\n",
       "      <td>&lt;=30</td>\n",
       "      <td>high</td>\n",
       "      <td>no</td>\n",
       "      <td>excellent</td>\n",
       "      <td>no</td>\n",
       "    </tr>\n",
       "    <tr>\n",
       "      <th>2</th>\n",
       "      <td>31-40</td>\n",
       "      <td>high</td>\n",
       "      <td>no</td>\n",
       "      <td>fair</td>\n",
       "      <td>yes</td>\n",
       "    </tr>\n",
       "    <tr>\n",
       "      <th>3</th>\n",
       "      <td>&gt;40</td>\n",
       "      <td>medium</td>\n",
       "      <td>no</td>\n",
       "      <td>fair</td>\n",
       "      <td>yes</td>\n",
       "    </tr>\n",
       "    <tr>\n",
       "      <th>4</th>\n",
       "      <td>&gt;40</td>\n",
       "      <td>low</td>\n",
       "      <td>yes</td>\n",
       "      <td>fair</td>\n",
       "      <td>yes</td>\n",
       "    </tr>\n",
       "  </tbody>\n",
       "</table>\n",
       "</div>"
      ],
      "text/plain": [
       "     Age  Income Student Creadit_Rating Buys_Computer\n",
       "0   <=30    high      no           fair            no\n",
       "1   <=30    high      no      excellent            no\n",
       "2  31-40    high      no           fair           yes\n",
       "3    >40  medium      no           fair           yes\n",
       "4    >40     low     yes           fair           yes"
      ]
     },
     "execution_count": 4,
     "metadata": {},
     "output_type": "execute_result"
    }
   ],
   "source": [
    "# Explroing Dataset\n",
    "\n",
    "df = pd.read_csv('new_dataset.csv')\n",
    "df.head()"
   ]
  },
  {
   "cell_type": "code",
   "execution_count": 12,
   "metadata": {
    "collapsed": false
   },
   "outputs": [
    {
     "data": {
      "text/html": [
       "<div>\n",
       "<table border=\"1\" class=\"dataframe\">\n",
       "  <thead>\n",
       "    <tr style=\"text-align: right;\">\n",
       "      <th></th>\n",
       "      <th>Age</th>\n",
       "      <th>Income</th>\n",
       "      <th>Student</th>\n",
       "      <th>Creadit_Rating</th>\n",
       "      <th>Buys_Computer</th>\n",
       "    </tr>\n",
       "  </thead>\n",
       "  <tbody>\n",
       "    <tr>\n",
       "      <th>count</th>\n",
       "      <td>14</td>\n",
       "      <td>14</td>\n",
       "      <td>14</td>\n",
       "      <td>14</td>\n",
       "      <td>14</td>\n",
       "    </tr>\n",
       "    <tr>\n",
       "      <th>unique</th>\n",
       "      <td>3</td>\n",
       "      <td>3</td>\n",
       "      <td>2</td>\n",
       "      <td>2</td>\n",
       "      <td>2</td>\n",
       "    </tr>\n",
       "    <tr>\n",
       "      <th>top</th>\n",
       "      <td>&lt;=30</td>\n",
       "      <td>medium</td>\n",
       "      <td>no</td>\n",
       "      <td>fair</td>\n",
       "      <td>yes</td>\n",
       "    </tr>\n",
       "    <tr>\n",
       "      <th>freq</th>\n",
       "      <td>5</td>\n",
       "      <td>6</td>\n",
       "      <td>7</td>\n",
       "      <td>8</td>\n",
       "      <td>9</td>\n",
       "    </tr>\n",
       "  </tbody>\n",
       "</table>\n",
       "</div>"
      ],
      "text/plain": [
       "         Age  Income Student Creadit_Rating Buys_Computer\n",
       "count     14      14      14             14            14\n",
       "unique     3       3       2              2             2\n",
       "top     <=30  medium      no           fair           yes\n",
       "freq       5       6       7              8             9"
      ]
     },
     "execution_count": 12,
     "metadata": {},
     "output_type": "execute_result"
    }
   ],
   "source": [
    "# Description of data frame\n",
    "df.describe()"
   ]
  },
  {
   "cell_type": "code",
   "execution_count": 13,
   "metadata": {
    "collapsed": false
   },
   "outputs": [
    {
     "name": "stdout",
     "output_type": "stream",
     "text": [
      "['high' 'medium' 'low']\n",
      "['no' 'yes']\n",
      "['<=30' '31-40' '>40']\n",
      "['fair' 'excellent']\n"
     ]
    }
   ],
   "source": [
    "# See Unique Values in Dataset\n",
    "\n",
    "print( df['Income'].unique() )\n",
    "\n",
    "print( df['Student'].unique() )\n",
    "\n",
    "print( df['Age'].unique() )\n",
    "\n",
    "print( df['Creadit_Rating'].unique() )"
   ]
  },
  {
   "cell_type": "markdown",
   "metadata": {},
   "source": [
    "> #### How to build a basic model using Naive Bayes in Python?\n",
    "____\n",
    "\n",
    "Again, scikit learn (python library) will help here to build a Naive Bayes model in Python. There are three types of Naive Bayes model under scikit learn library:\n",
    "\n",
    "- Gaussian: It is used in classification and it assumes that features follow a normal distribution.\n",
    "\n",
    "- Multinomial: It is used for discrete counts. For example, let’s say,  we have a text classification problem. Here we can consider bernoulli trials which is one step further and instead of “word occurring in the document”, we have “count how often word occurs in the document”, you can think of it as “number of times outcome number x_i is observed over the n trials”.\n",
    "\n",
    "- Bernoulli: The binomial model is useful if your feature vectors are binary (i.e. zeros and ones). One application would be text classification with ‘bag of words’ model where the 1s & 0s are “word occurs in the document” and “word does not occur in the document” respectively.\n",
    "\n",
    "Thanks to [analyticsvidhya](analyticsvidhya.com/blog/2017/09/naive-bayes-explained)\n",
    "\n",
    "#### From Above dataframe we see that our features[Age, Income, Student, CreditRating] are string values so to need to convert them into Numeric values \n",
    "\n",
    "Lets Try using Label Encoder"
   ]
  },
  {
   "cell_type": "code",
   "execution_count": 30,
   "metadata": {
    "collapsed": false
   },
   "outputs": [
    {
     "name": "stdout",
     "output_type": "stream",
     "text": [
      "[0 0 0 2 1 1 1 2 1 2 2 2 0 2]\n",
      "0       high\n",
      "1       high\n",
      "2       high\n",
      "3     medium\n",
      "4        low\n",
      "5        low\n",
      "6        low\n",
      "7     medium\n",
      "8        low\n",
      "9     medium\n",
      "10    medium\n",
      "11    medium\n",
      "12      high\n",
      "13    medium\n",
      "Name: Income, dtype: object\n"
     ]
    }
   ],
   "source": [
    "# Cols to Numeric Values\n",
    "\n",
    "from sklearn import preprocessing\n",
    "le = preprocessing.LabelEncoder()\n",
    "a = le.fit_transform(df['Income'])\n",
    "\n",
    "\n",
    "le.classes_\n",
    "print(a)\n",
    "print(df['Income'])\n",
    "\n",
    "# Add new Column for Income_N\n",
    "df['Income_N'] = a"
   ]
  },
  {
   "cell_type": "code",
   "execution_count": 31,
   "metadata": {
    "collapsed": false
   },
   "outputs": [
    {
     "name": "stdout",
     "output_type": "stream",
     "text": [
      "[0 0 0 0 1 1 1 0 1 1 1 0 1 0]\n",
      "0      no\n",
      "1      no\n",
      "2      no\n",
      "3      no\n",
      "4     yes\n",
      "5     yes\n",
      "6     yes\n",
      "7      no\n",
      "8     yes\n",
      "9     yes\n",
      "10    yes\n",
      "11     no\n",
      "12    yes\n",
      "13     no\n",
      "Name: Student, dtype: object\n"
     ]
    }
   ],
   "source": [
    "from sklearn import preprocessing\n",
    "le = preprocessing.LabelEncoder()\n",
    "a = le.fit_transform(df['Student'])\n",
    "\n",
    "\n",
    "le.classes_\n",
    "print(a)\n",
    "print(df['Student'])\n",
    "\n",
    "# Add new Column for Student_N\n",
    "df['Student_N'] = a"
   ]
  },
  {
   "cell_type": "code",
   "execution_count": 32,
   "metadata": {
    "collapsed": false
   },
   "outputs": [
    {
     "name": "stdout",
     "output_type": "stream",
     "text": [
      "[1 1 0 2 2 2 0 1 1 2 1 0 0 2]\n",
      "0      <=30\n",
      "1      <=30\n",
      "2     31-40\n",
      "3       >40\n",
      "4       >40\n",
      "5       >40\n",
      "6     31-40\n",
      "7      <=30\n",
      "8      <=30\n",
      "9       >40\n",
      "10     <=30\n",
      "11    31-40\n",
      "12    31-40\n",
      "13      >40\n",
      "Name: Age, dtype: object\n"
     ]
    }
   ],
   "source": [
    "from sklearn import preprocessing\n",
    "le = preprocessing.LabelEncoder()\n",
    "a = le.fit_transform(df['Age'])\n",
    "\n",
    "\n",
    "le.classes_\n",
    "print(a)\n",
    "print(df['Age'])\n",
    "\n",
    "# Add new Column for Age_N\n",
    "df['Age_N'] = a"
   ]
  },
  {
   "cell_type": "code",
   "execution_count": 36,
   "metadata": {
    "collapsed": false
   },
   "outputs": [
    {
     "name": "stdout",
     "output_type": "stream",
     "text": [
      "[1 0 1 1 1 0 0 1 1 1 0 0 1 0]\n",
      "0          fair\n",
      "1     excellent\n",
      "2          fair\n",
      "3          fair\n",
      "4          fair\n",
      "5     excellent\n",
      "6     excellent\n",
      "7          fair\n",
      "8          fair\n",
      "9          fair\n",
      "10    excellent\n",
      "11    excellent\n",
      "12         fair\n",
      "13    excellent\n",
      "Name: Creadit_Rating, dtype: object\n"
     ]
    }
   ],
   "source": [
    "\n",
    "from sklearn import preprocessing\n",
    "le = preprocessing.LabelEncoder()\n",
    "a = le.fit_transform(df['Creadit_Rating'])\n",
    "\n",
    "\n",
    "le.classes_\n",
    "print(a)\n",
    "print(df['Creadit_Rating'])\n",
    "\n",
    "# Add new Column for Creadit_Rating_N\n",
    "df['Creadit_Rating_N'] = a"
   ]
  },
  {
   "cell_type": "code",
   "execution_count": 38,
   "metadata": {
    "collapsed": false
   },
   "outputs": [
    {
     "name": "stdout",
     "output_type": "stream",
     "text": [
      "[0 0 1 1 1 0 1 0 1 1 1 1 1 0]\n",
      "0      no\n",
      "1      no\n",
      "2     yes\n",
      "3     yes\n",
      "4     yes\n",
      "5      no\n",
      "6     yes\n",
      "7      no\n",
      "8     yes\n",
      "9     yes\n",
      "10    yes\n",
      "11    yes\n",
      "12    yes\n",
      "13     no\n",
      "Name: Buys_Computer, dtype: object\n"
     ]
    }
   ],
   "source": [
    "# Buys_Computer\n",
    "\n",
    "from sklearn import preprocessing\n",
    "le = preprocessing.LabelEncoder()\n",
    "a = le.fit_transform(df['Buys_Computer'])\n",
    "\n",
    "\n",
    "le.classes_\n",
    "print(a)\n",
    "print(df['Buys_Computer'])\n",
    "\n",
    "# Add new Column for Buys_Computer_N\n",
    "df['Buys_Computer_N'] = a"
   ]
  },
  {
   "cell_type": "code",
   "execution_count": 39,
   "metadata": {
    "collapsed": false
   },
   "outputs": [
    {
     "data": {
      "text/html": [
       "<div>\n",
       "<table border=\"1\" class=\"dataframe\">\n",
       "  <thead>\n",
       "    <tr style=\"text-align: right;\">\n",
       "      <th></th>\n",
       "      <th>Age</th>\n",
       "      <th>Income</th>\n",
       "      <th>Student</th>\n",
       "      <th>Creadit_Rating</th>\n",
       "      <th>Buys_Computer</th>\n",
       "      <th>Income_N</th>\n",
       "      <th>Student_N</th>\n",
       "      <th>Age_N</th>\n",
       "      <th>Creadit_Rating_N</th>\n",
       "      <th>Buys_Computer_N</th>\n",
       "    </tr>\n",
       "  </thead>\n",
       "  <tbody>\n",
       "    <tr>\n",
       "      <th>0</th>\n",
       "      <td>&lt;=30</td>\n",
       "      <td>high</td>\n",
       "      <td>no</td>\n",
       "      <td>fair</td>\n",
       "      <td>no</td>\n",
       "      <td>0</td>\n",
       "      <td>0</td>\n",
       "      <td>1</td>\n",
       "      <td>1</td>\n",
       "      <td>0</td>\n",
       "    </tr>\n",
       "    <tr>\n",
       "      <th>1</th>\n",
       "      <td>&lt;=30</td>\n",
       "      <td>high</td>\n",
       "      <td>no</td>\n",
       "      <td>excellent</td>\n",
       "      <td>no</td>\n",
       "      <td>0</td>\n",
       "      <td>0</td>\n",
       "      <td>1</td>\n",
       "      <td>0</td>\n",
       "      <td>0</td>\n",
       "    </tr>\n",
       "    <tr>\n",
       "      <th>2</th>\n",
       "      <td>31-40</td>\n",
       "      <td>high</td>\n",
       "      <td>no</td>\n",
       "      <td>fair</td>\n",
       "      <td>yes</td>\n",
       "      <td>0</td>\n",
       "      <td>0</td>\n",
       "      <td>0</td>\n",
       "      <td>1</td>\n",
       "      <td>1</td>\n",
       "    </tr>\n",
       "    <tr>\n",
       "      <th>3</th>\n",
       "      <td>&gt;40</td>\n",
       "      <td>medium</td>\n",
       "      <td>no</td>\n",
       "      <td>fair</td>\n",
       "      <td>yes</td>\n",
       "      <td>2</td>\n",
       "      <td>0</td>\n",
       "      <td>2</td>\n",
       "      <td>1</td>\n",
       "      <td>1</td>\n",
       "    </tr>\n",
       "    <tr>\n",
       "      <th>4</th>\n",
       "      <td>&gt;40</td>\n",
       "      <td>low</td>\n",
       "      <td>yes</td>\n",
       "      <td>fair</td>\n",
       "      <td>yes</td>\n",
       "      <td>1</td>\n",
       "      <td>1</td>\n",
       "      <td>2</td>\n",
       "      <td>1</td>\n",
       "      <td>1</td>\n",
       "    </tr>\n",
       "  </tbody>\n",
       "</table>\n",
       "</div>"
      ],
      "text/plain": [
       "     Age  Income Student Creadit_Rating Buys_Computer  Income_N  Student_N  \\\n",
       "0   <=30    high      no           fair            no         0          0   \n",
       "1   <=30    high      no      excellent            no         0          0   \n",
       "2  31-40    high      no           fair           yes         0          0   \n",
       "3    >40  medium      no           fair           yes         2          0   \n",
       "4    >40     low     yes           fair           yes         1          1   \n",
       "\n",
       "   Age_N  Creadit_Rating_N  Buys_Computer_N  \n",
       "0      1                 1                0  \n",
       "1      1                 0                0  \n",
       "2      0                 1                1  \n",
       "3      2                 1                1  \n",
       "4      2                 1                1  "
      ]
     },
     "execution_count": 39,
     "metadata": {},
     "output_type": "execute_result"
    }
   ],
   "source": [
    "df.head()"
   ]
  },
  {
   "cell_type": "code",
   "execution_count": 42,
   "metadata": {
    "collapsed": false
   },
   "outputs": [
    {
     "name": "stdout",
     "output_type": "stream",
     "text": [
      "(14, 4)\n",
      "(14,)\n"
     ]
    }
   ],
   "source": [
    "# Separate Independent Features and Target Variable 'Buy Computer'\n",
    "\n",
    "X= df.iloc[:,[5,6,7,8]]\n",
    "y= df.iloc[:,9]\n",
    "\n",
    "print(X.shape)\n",
    "print(y.shape)"
   ]
  },
  {
   "cell_type": "code",
   "execution_count": 83,
   "metadata": {
    "collapsed": false
   },
   "outputs": [],
   "source": [
    "# Data Spliting\n",
    "# Splitting the dataset into the Training set and Test set\n",
    "\n",
    "from sklearn.model_selection import train_test_split\n",
    "X_train, X_test, y_train, y_test = train_test_split(X, y, test_size = 0.25, random_state = 0)"
   ]
  },
  {
   "cell_type": "code",
   "execution_count": 84,
   "metadata": {
    "collapsed": false
   },
   "outputs": [
    {
     "data": {
      "text/plain": [
       "GaussianNB(priors=None)"
      ]
     },
     "execution_count": 84,
     "metadata": {},
     "output_type": "execute_result"
    }
   ],
   "source": [
    "# Fitting Naive Bayes to the Training set\n",
    "\n",
    "from sklearn.naive_bayes import GaussianNB\n",
    "classifier = GaussianNB()\n",
    "classifier.fit(X_train, y_train)\n"
   ]
  },
  {
   "cell_type": "code",
   "execution_count": 85,
   "metadata": {
    "collapsed": false
   },
   "outputs": [],
   "source": [
    "# Predicting the Test set results\n",
    "y_pred = classifier.predict(X_test)\n"
   ]
  },
  {
   "cell_type": "code",
   "execution_count": 86,
   "metadata": {
    "collapsed": false
   },
   "outputs": [
    {
     "name": "stdout",
     "output_type": "stream",
     "text": [
      "1.0\n"
     ]
    }
   ],
   "source": [
    "from sklearn.metrics import accuracy_score\n",
    "\n",
    "print(accuracy_score(y_pred,y_test))"
   ]
  },
  {
   "cell_type": "code",
   "execution_count": 104,
   "metadata": {
    "collapsed": false
   },
   "outputs": [
    {
     "name": "stdout",
     "output_type": "stream",
     "text": [
      "(4,)\n",
      "[1]\n"
     ]
    }
   ],
   "source": [
    "# Lets Test\n",
    "s = np.array([1,1,2,1])\n",
    "print(s.shape)\n",
    "s = s.reshape(1,s.shape[0])\n",
    "print( classifier.predict(s) )"
   ]
  },
  {
   "cell_type": "code",
   "execution_count": 105,
   "metadata": {
    "collapsed": false
   },
   "outputs": [
    {
     "name": "stdout",
     "output_type": "stream",
     "text": [
      "(4,)\n",
      "[0]\n"
     ]
    }
   ],
   "source": [
    "s = np.array([0,0,1,1])\n",
    "print(s.shape)\n",
    "s = s.reshape(1,s.shape[0])\n",
    "print( classifier.predict(s) )"
   ]
  },
  {
   "cell_type": "code",
   "execution_count": 106,
   "metadata": {
    "collapsed": false
   },
   "outputs": [
    {
     "name": "stdout",
     "output_type": "stream",
     "text": [
      "(4,)\n",
      "[1]\n"
     ]
    }
   ],
   "source": [
    "s = np.array([0,0,0,1])\n",
    "print(s.shape)\n",
    "s = s.reshape(1,s.shape[0])\n",
    "print( classifier.predict(s) )\n"
   ]
  },
  {
   "cell_type": "code",
   "execution_count": 108,
   "metadata": {
    "collapsed": false
   },
   "outputs": [
    {
     "name": "stdout",
     "output_type": "stream",
     "text": [
      "(4,)\n",
      "[0]\n"
     ]
    }
   ],
   "source": [
    "s = np.array([2,0,2,1])\n",
    "print(s.shape)\n",
    "s = s.reshape(1,s.shape[0])\n",
    "print( classifier.predict(s) )\n"
   ]
  }
 ],
 "metadata": {
  "kernelspec": {
   "display_name": "Python 3",
   "language": "python",
   "name": "python3"
  },
  "language_info": {
   "codemirror_mode": {
    "name": "ipython",
    "version": 3
   },
   "file_extension": ".py",
   "mimetype": "text/x-python",
   "name": "python",
   "nbconvert_exporter": "python",
   "pygments_lexer": "ipython3",
   "version": "3.6.0"
  }
 },
 "nbformat": 4,
 "nbformat_minor": 2
}
